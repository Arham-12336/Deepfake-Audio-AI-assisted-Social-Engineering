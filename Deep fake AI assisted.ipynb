{
 "cells": [
  {
   "cell_type": "markdown",
   "id": "13a050ab",
   "metadata": {},
   "source": [
    "# Import "
   ]
  },
  {
   "cell_type": "code",
   "execution_count": 1,
   "id": "706ed63c",
   "metadata": {},
   "outputs": [],
   "source": [
    "# `pip install assemblyai` (Windows)\n",
    "# `pip install assemblyai` (Windows)\n",
    "# !pip install langchain\n",
    "# !pip install langchain-openai\n",
    "# %pip install --upgrade --quiet  langchain-core langchain-community langchain-openai\n",
    "# !pip install -qU langchain-openai"
   ]
  },
  {
   "cell_type": "code",
   "execution_count": 1,
   "id": "b0cd15c6",
   "metadata": {},
   "outputs": [
    {
     "name": "stdout",
     "output_type": "stream",
     "text": [
      "········\n"
     ]
    }
   ],
   "source": [
    "import getpass\n",
    "import os\n",
    "\n",
    "os.environ[\"OPENAI_API_KEY\"] = getpass.getpass()"
   ]
  },
  {
   "cell_type": "markdown",
   "id": "75d37c00",
   "metadata": {},
   "source": [
    "# Setting up Whisper AI"
   ]
  },
  {
   "cell_type": "code",
   "execution_count": 2,
   "id": "26bc0322",
   "metadata": {},
   "outputs": [],
   "source": [
    "import assemblyai as aai\n",
    "\n",
    "aai.settings.api_key = \"WHISPER_AI_API_KEY\"\n"
   ]
  },
  {
   "cell_type": "markdown",
   "id": "3f8fc84e",
   "metadata": {},
   "source": [
    "# Setting up OpenAI"
   ]
  },
  {
   "cell_type": "code",
   "execution_count": 3,
   "id": "b9485e05",
   "metadata": {},
   "outputs": [],
   "source": [
    "from langchain.chains import LLMChain\n",
    "from langchain_community.llms import OpenAI\n",
    "from langchain_core.prompts import PromptTemplate\n",
    "from langchain_core.prompts import ChatPromptTemplate\n",
    "from langchain_openai import ChatOpenAI"
   ]
  },
  {
   "cell_type": "code",
   "execution_count": 4,
   "id": "07740c63",
   "metadata": {},
   "outputs": [],
   "source": [
    "def voice_to_text(URL):\n",
    "    transcriber = aai.Transcriber()\n",
    "    transcript = transcriber.transcribe(URL)\n",
    "    return transcript.text\n",
    "    "
   ]
  },
  {
   "cell_type": "code",
   "execution_count": 5,
   "id": "8bb34d3e",
   "metadata": {},
   "outputs": [],
   "source": [
    "FILE_URL = \"https://github.com/AssemblyAI-Examples/audio-examples/raw/main/20230607_me_canadian_wildfires.mp3\""
   ]
  },
  {
   "cell_type": "code",
   "execution_count": 6,
   "id": "67ed057c",
   "metadata": {},
   "outputs": [],
   "source": [
    "c=voice_to_text(FILE_URL)"
   ]
  },
  {
   "cell_type": "code",
   "execution_count": 7,
   "id": "4b9066a6",
   "metadata": {},
   "outputs": [
    {
     "data": {
      "text/plain": [
       "\"Smoke from hundreds of wildfires in Canada is triggering air quality alerts throughout the US. Skylines from Maine to Maryland to Minnesota are gray and smoggy. And in some places, the air quality warnings include the warning to stay inside. We wanted to better understand what's happening here and why. So he called Peter DiCarlo, an associate professor in the department of Environmental Health and Engineering at Johns Hopkins University. Good morning. Professor. Good morning. So what is it about the conditions right now that have caused this round of wildfires to affect so many people so far away? Well, there's a couple of things. The season has been pretty dry already, and then the fact that we're getting hit in the US is because there's a couple weather systems that are essentially channeling the smoke from those canadian wildfires through Pennsylvania into the mid Atlantic in the northeast and kind of just dropping the smoke there. So what is it in this haze that makes it harmful? And I'm assuming it is harmful. It is. It is. The levels outside right now in Baltimore are considered unhealthy. And most of that is due to what's called particulate matter, which are tiny particles, microscopic, smaller than the width of your hair, that can get into your lungs and impact your respiratory system, your cardiovascular system, and even your neurological, your brain. What makes this particularly harmful? Is it the volume of particulate? Is it something in particular? What is it exactly? Can you just drill down on that a little bit more? Yeah. So the concentration of particulate matter I was looking at, some of the monitors that we have was reaching levels of what are in science peak 150 micrograms per meter cubed, which is more than ten times what the annual average should be in about four times higher than what you're supposed to have on a 24 hours average. And so the concentrations of these particles in the air are just much, much, much higher than we typically see. And exposure to those high levels can lead to a host of health problems. And who is most vulnerable? I noticed that in New York City, for example, they're canceling outdoor activities. And so here it is in the early days of summer, and they have to keep all the kids inside. So who tends to be vulnerable in a situation like this? It's the youngest. So children, obviously, whose bodies are still developing, the elderly, who are, you know, their bodies are more in decline and they're more susceptible to the health impacts of breathing, the poor air quality. And then people who have pre existing health conditions, people with respiratory conditions or heart conditions, can be triggered by high levels of air pollution. Could this get worse? That's a good question. I mean, I think if, and in some areas it's much worse than others, and it just depends on kind of where the smoke is concentrated. I think New York has some of the higher concentrations right now, but that's going to change as that air moves away from the New York area. But over the course of the next few days, we will see different areas being hit at different times with the highest concentrations. I was going to ask you about more fires start burning. I don't expect the concentrations to go up too much higher. I was going to ask you how, and you started to answer this, but how much longer could this last? Forgive me if I'm asking you to speculate, but what do you think? Well, I think the fires are going to burn for a little bit longer, but the key for us in the US is the weather system changing. And so right now it's kind of the weather systems that are pulling that air into our mid Atlantic and northeast region. As those weather system change systems change and shift, we'll see that smoke going elsewhere and not impact us in this region as much. And so I think that's going to be the defining factor. And I think the next couple days we're going to see, see a shift in that weather pattern and start to push the smoke away from where we are. And finally, with the impacts of climate change, we are seeing more wildfires. Will we be seeing more of these kinds of wide ranging air quality consequences or circumstances? I mean, that is one of the predictions for climate change. Looking into the future, the fire season is starting earlier and lasting longer, and we're seeing more frequent fires. So, yeah, this is probably something that we'll be seeing more frequently. This tends to be much more of an issue in the western us. So the eastern us getting hit right now is a little bit new. But, yeah, I think with climate change moving forward, this is something that is going to happen more frequently. That's Peter DiCarlo, associate professor in the department of Environmental Health and Engineering at Johns Hopkins University. Professor de Carlo, thanks so much for joining us and sharing this expertise with us. Thank you for having me.\""
      ]
     },
     "execution_count": 7,
     "metadata": {},
     "output_type": "execute_result"
    }
   ],
   "source": [
    "c"
   ]
  },
  {
   "cell_type": "code",
   "execution_count": 8,
   "id": "e5240358",
   "metadata": {},
   "outputs": [],
   "source": [
    "prompt = ChatPromptTemplate.from_template(\"You are given a transcript of an audio {transcript} you need to identify the summarise the audio in 3-5 sentences\")\n",
    "model = ChatOpenAI()\n",
    "chain = prompt | model"
   ]
  },
  {
   "cell_type": "code",
   "execution_count": 11,
   "id": "afba092f",
   "metadata": {},
   "outputs": [
    {
     "data": {
      "text/plain": [
       "AIMessage(content='Wildfires in Canada are causing smoke to spread to the US, triggering air quality alerts. The smoke contains harmful particulate matter that can impact respiratory, cardiovascular, and neurological health. Vulnerable populations such as children, the elderly, and those with pre-existing health conditions are most at risk. The duration and severity of the air quality issues depend on weather patterns, but with the increasing impact of climate change, we may see more frequent instances of widespread air quality concerns due to wildfires.', response_metadata={'token_usage': {'completion_tokens': 96, 'prompt_tokens': 1050, 'total_tokens': 1146}, 'model_name': 'gpt-3.5-turbo', 'system_fingerprint': 'fp_3bc1b5746c', 'finish_reason': 'stop', 'logprobs': None})"
      ]
     },
     "execution_count": 11,
     "metadata": {},
     "output_type": "execute_result"
    }
   ],
   "source": [
    "chain.invoke({\"transcript\": c})"
   ]
  },
  {
   "cell_type": "code",
   "execution_count": null,
   "id": "aefcf618",
   "metadata": {},
   "outputs": [],
   "source": []
  },
  {
   "cell_type": "code",
   "execution_count": null,
   "id": "741e3185",
   "metadata": {},
   "outputs": [],
   "source": []
  }
 ],
 "metadata": {
  "kernelspec": {
   "display_name": "Python 3 (ipykernel)",
   "language": "python",
   "name": "python3"
  },
  "language_info": {
   "codemirror_mode": {
    "name": "ipython",
    "version": 3
   },
   "file_extension": ".py",
   "mimetype": "text/x-python",
   "name": "python",
   "nbconvert_exporter": "python",
   "pygments_lexer": "ipython3",
   "version": "3.11.5"
  }
 },
 "nbformat": 4,
 "nbformat_minor": 5
}
